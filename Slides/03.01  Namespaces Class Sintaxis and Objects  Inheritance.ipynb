{
 "cells": [
  {
   "cell_type": "markdown",
   "metadata": {
    "collapsed": true,
    "slideshow": {
     "slide_type": "slide"
    }
   },
   "source": [
    "# About Names and Objects\n",
    "* <h3> Objects have individuality and multiple names (in multiple scopes) can be bound to the same object. <h3>\n",
    "* <h3> This is known as aliasing in other languages.<h3> \n",
    " \n"
   ]
  },
  {
   "cell_type": "markdown",
   "metadata": {
    "slideshow": {
     "slide_type": "slide"
    }
   },
   "source": [
    "## Aliasing has a possibly surprising effect on the semantics of Python code\n",
    "* <h3> involving mutable objects such as lists, dictionaries, and most other types.<h3> "
   ]
  },
  {
   "cell_type": "markdown",
   "metadata": {
    "collapsed": true,
    "slideshow": {
     "slide_type": "slide"
    }
   },
   "source": [
    "### Defintion of a namespace\n",
    "    * A namespace is a mapping from names to objects. \n",
    "    * Most namespaces are currently implemented as Python dictionaries.\n",
    "    * It can change in the future.\n",
    "#### Examples of namespaces are\n",
    "    * The set of built-in names\n",
    "    * The global names in a module.\n",
    "    * The local names in a function invocation.\n",
    "    * The local namespace for a function is created when the function is called"
   ]
  },
  {
   "cell_type": "markdown",
   "metadata": {
    "slideshow": {
     "slide_type": "slide"
    }
   },
   "source": [
    "### Scopes\n",
    "    * A scope is a textual region of a Python program where a namespace is directly accessible\n",
    "        * Although scopes are determined statically, they are used dynamically."
   ]
  },
  {
   "cell_type": "markdown",
   "metadata": {
    "slideshow": {
     "slide_type": "slide"
    }
   },
   "source": [
    "#### There are at least three nested scopes whose namespaces are directly accessible\n",
    "    * The innermost scope, which is searched first, contains the local names\n",
    "    * The scopes of any enclosing functions, which are searched starting with the nearest enclosing scope, contains non-local, but also non-global names\n",
    "    * The next-to-last scope contains the current module’s global names\n",
    "    * The outermost scope (searched last) is the namespace containing built-in names"
   ]
  },
  {
   "cell_type": "markdown",
   "metadata": {
    "slideshow": {
     "slide_type": "slide"
    }
   },
   "source": [
    "# Python Object-Oriented\n",
    "\n",
    "    * Python has been an object-oriented language since it existed. \n",
    "    * Because of this, creating and using classes and objects are easy. \n"
   ]
  },
  {
   "cell_type": "markdown",
   "metadata": {
    "slideshow": {
     "slide_type": "slide"
    }
   },
   "source": [
    "# Overview of OOP Terminology\n",
    "\n",
    "* **CLASS**  \n",
    "        User-defined prototype for an object that defines a set of attributes that characterize any object of the class.\n",
    "    \n",
    "* **CLASS VARIABLE** \n",
    "        A variable that is shared by all instances of a class. \n",
    "    \n",
    "* **DATA MEMEBER** \n",
    "        A class variable or instance variable that holds data associated with a class and its objects.\n",
    "    \n",
    "* **Function Overloading**\n",
    "        \n",
    "        The assignment of more than one behavior to a particular function."
   ]
  },
  {
   "cell_type": "markdown",
   "metadata": {
    "slideshow": {
     "slide_type": "slide"
    }
   },
   "source": [
    "# Overview of OOP Terminology\n",
    "* **Instance variable**  \n",
    "        A variable that is defined inside a method and belongs only to the current instance of a class.\n",
    "* **Inheritance** \n",
    "        The transfer of the characteristics of a class to other classes that are derived from it."
   ]
  },
  {
   "cell_type": "markdown",
   "metadata": {
    "slideshow": {
     "slide_type": "slide"
    }
   },
   "source": [
    "# Classes in Python\n",
    "We have the following syntaxis:\n",
    "\n",
    "\n",
    "```fsharp\n",
    "class ClassName:\n",
    "    <statement-1>\n",
    "    .\n",
    "    .                **class_suite**\n",
    "    .\n",
    "    <statement-N>\n",
    "```"
   ]
  },
  {
   "cell_type": "markdown",
   "metadata": {
    "slideshow": {
     "slide_type": "slide"
    }
   },
   "source": [
    "## STRUCTURE\n",
    "\n",
    "* The **class** has a documentation string, which can be accessed via **ClassName.\\_\\_doc\\_\\_**.\n",
    "    \n",
    "\n",
    "* The **class_suite** consists of all the component statements defining class members, data attributes and functions."
   ]
  },
  {
   "cell_type": "markdown",
   "metadata": {
    "slideshow": {
     "slide_type": "slide"
    }
   },
   "source": [
    "## Class objects support two kinds of operations: \n",
    "### * Attribute references \n",
    "### * Instantiations."
   ]
  },
  {
   "cell_type": "markdown",
   "metadata": {},
   "source": [
    "## More Attributes the Build-In Ones\n",
    "* **\\_\\_dict\\_\\_**: Dictionary containing the class's namespace.\n",
    "    \n",
    "\n",
    "* **\\_\\_doc\\_\\_**: Class documentation string or none, if undefined.\n",
    "    \n",
    "\n",
    "* **\\_\\_name\\_\\_**: Class name.\n",
    "    \n",
    "\n",
    "* **\\_\\_module\\_\\_**: Module name in which the class is defined. This attribute is \"__main__\" in interactive mode.\n",
    "    \n",
    "\n",
    "* **\\_\\_bases\\_\\_**: A possibly empty tuple containing the base classes, in the order of their occurrence in the base class list.\n",
    "\n"
   ]
  },
  {
   "cell_type": "code",
   "execution_count": 3,
   "metadata": {
    "collapsed": false,
    "slideshow": {
     "slide_type": "subslide"
    }
   },
   "outputs": [],
   "source": [
    "class MyClass:\n",
    "    \"\"\"A simple example class\"\"\"\n",
    "    # Classes Shared by all the objects\n",
    "    i = 12345\n",
    "    j = 0\n",
    "    size = 0\n",
    "    \n",
    "    def __init__(self):\n",
    "        self.data = []\n",
    "\n",
    "    def mine(self):\n",
    "        print 'hello world'\n",
    "    \n",
    "    def add(self,x):\n",
    "        self.data.append(x)\n",
    "        self.size+=1\n",
    "        \n",
    "    def next(self):\n",
    "        self.j+=1\n",
    "        return self.data[self.j-1]"
   ]
  },
  {
   "cell_type": "code",
   "execution_count": 4,
   "metadata": {
    "collapsed": false,
    "slideshow": {
     "slide_type": "subslide"
    }
   },
   "outputs": [
    {
     "name": "stdout",
     "output_type": "stream",
     "text": [
      "MyClass.__doc__: A simple example class\n",
      "MyClass.__name__: MyClass\n",
      "MyClass.__module__: __main__\n",
      "MyClass.__bases__: ()\n",
      "MyClass.__dict__: {'__module__': '__main__', 'i': 12345, 'j': 0, 'mine': <function mine at 0x7fbf1cf0a050>, 'next': <function next at 0x7fbf1cf0a140>, 'add': <function add at 0x7fbf1cf0a0c8>, '__doc__': 'A simple example class', '__init__': <function __init__ at 0x7fbf1cff9f50>, 'size': 0}\n"
     ]
    }
   ],
   "source": [
    "print \"MyClass.__doc__:\", MyClass.__doc__\n",
    "print \"MyClass.__name__:\", MyClass.__name__\n",
    "print \"MyClass.__module__:\", MyClass.__module__\n",
    "print \"MyClass.__bases__:\", MyClass.__bases__\n",
    "print \"MyClass.__dict__:\", MyClass.__dict__"
   ]
  },
  {
   "cell_type": "code",
   "execution_count": 34,
   "metadata": {
    "collapsed": false,
    "slideshow": {
     "slide_type": "subslide"
    }
   },
   "outputs": [
    {
     "data": {
      "text/plain": [
       "12345"
      ]
     },
     "execution_count": 34,
     "metadata": {},
     "output_type": "execute_result"
    }
   ],
   "source": [
    "MyClass.i"
   ]
  },
  {
   "cell_type": "code",
   "execution_count": 35,
   "metadata": {
    "collapsed": false,
    "slideshow": {
     "slide_type": "subslide"
    }
   },
   "outputs": [
    {
     "data": {
      "text/plain": [
       "<unbound method MyClass.mine>"
      ]
     },
     "execution_count": 35,
     "metadata": {},
     "output_type": "execute_result"
    }
   ],
   "source": [
    "MyClass.mine"
   ]
  },
  {
   "cell_type": "code",
   "execution_count": 5,
   "metadata": {
    "collapsed": false
   },
   "outputs": [],
   "source": [
    "a = MyClass()\n",
    "b = MyClass()"
   ]
  },
  {
   "cell_type": "code",
   "execution_count": 6,
   "metadata": {
    "collapsed": false
   },
   "outputs": [
    {
     "name": "stdout",
     "output_type": "stream",
     "text": [
      "12345\n",
      "12345\n"
     ]
    }
   ],
   "source": [
    "print a.i\n",
    "print b.i"
   ]
  },
  {
   "cell_type": "markdown",
   "metadata": {
    "slideshow": {
     "slide_type": "subslide"
    }
   },
   "source": [
    "## Class Instantiation \n",
    "* Here we are going to see the scope problem"
   ]
  },
  {
   "cell_type": "code",
   "execution_count": 2,
   "metadata": {
    "collapsed": true,
    "slideshow": {
     "slide_type": "subslide"
    }
   },
   "outputs": [],
   "source": [
    "x=MyClass()"
   ]
  },
  {
   "cell_type": "code",
   "execution_count": 3,
   "metadata": {
    "collapsed": false,
    "slideshow": {
     "slide_type": "subslide"
    }
   },
   "outputs": [
    {
     "name": "stdout",
     "output_type": "stream",
     "text": [
      "0\n",
      "1\n",
      "2\n",
      "3\n",
      "4\n",
      "5\n",
      "6\n",
      "7\n",
      "8\n",
      "9\n"
     ]
    }
   ],
   "source": [
    "for h in range(10):\n",
    "    x.add(h)\n",
    "\n",
    "for k in range(10):\n",
    "    print x.next()"
   ]
  },
  {
   "cell_type": "code",
   "execution_count": 6,
   "metadata": {
    "collapsed": false,
    "slideshow": {
     "slide_type": "subslide"
    }
   },
   "outputs": [
    {
     "name": "stdout",
     "output_type": "stream",
     "text": [
      "[0, 1, 2, 3, 4, 5, 6, 7, 8, 9]\n",
      "10\n"
     ]
    }
   ],
   "source": [
    "print x.data\n",
    "print x.j"
   ]
  },
  {
   "cell_type": "code",
   "execution_count": 8,
   "metadata": {
    "collapsed": false,
    "slideshow": {
     "slide_type": "subslide"
    }
   },
   "outputs": [
    {
     "name": "stdout",
     "output_type": "stream",
     "text": [
      "2\n",
      "4\n",
      "8\n",
      "16\n"
     ]
    }
   ],
   "source": [
    "x.j = 1\n",
    "while x.j < 10:\n",
    "    x.j*=2\n",
    "    print x.j\n",
    "del x.j"
   ]
  },
  {
   "cell_type": "code",
   "execution_count": null,
   "metadata": {
    "collapsed": false,
    "slideshow": {
     "slide_type": "subslide"
    }
   },
   "outputs": [],
   "source": [
    "print x.j\n"
   ]
  },
  {
   "cell_type": "markdown",
   "metadata": {
    "slideshow": {
     "slide_type": "subslide"
    }
   },
   "source": [
    "## Method Objects\n",
    "    * Usually, a method is called right after it is bound.\n",
    "\n",
    "    * It is possible to do the following:"
   ]
  },
  {
   "cell_type": "code",
   "execution_count": 9,
   "metadata": {
    "collapsed": false,
    "slideshow": {
     "slide_type": "subslide"
    }
   },
   "outputs": [
    {
     "name": "stdout",
     "output_type": "stream",
     "text": [
      "0\n",
      "1\n",
      "2\n",
      "3\n",
      "4\n"
     ]
    },
    {
     "data": {
      "text/plain": [
       "5"
      ]
     },
     "execution_count": 9,
     "metadata": {},
     "output_type": "execute_result"
    }
   ],
   "source": [
    "x.j = 0\n",
    "xf = x.next\n",
    "i=0\n",
    "while i<5:\n",
    "    print xf()\n",
    "    i+=1\n",
    "x.j"
   ]
  },
  {
   "cell_type": "markdown",
   "metadata": {
    "slideshow": {
     "slide_type": "slide"
    }
   },
   "source": [
    "# Inheritance\n",
    "\n",
    "```fsharp\n",
    "class DerivedClassName(BaseClassName):\n",
    "    <statement-1>\n",
    "    .\n",
    "    .\n",
    "    .\n",
    "    <statement-N>\n",
    "```"
   ]
  },
  {
   "cell_type": "markdown",
   "metadata": {
    "slideshow": {
     "slide_type": "subslide"
    }
   },
   "source": [
    "## Note\n",
    "\n",
    "    * The name BaseClassName must be defined in a scope containing the derived class definition. \n",
    "    * In place of a base class name, other arbitrary expressions are also allowed. \n",
    "### Because\n",
    "        + When the base class is defined in another module."
   ]
  },
  {
   "cell_type": "code",
   "execution_count": 28,
   "metadata": {
    "collapsed": true,
    "slideshow": {
     "slide_type": "subslide"
    }
   },
   "outputs": [],
   "source": [
    "class Child(MyClass): # define child class\n",
    "   def __init__(self):\n",
    "      MyClass.__init__(self)\n",
    "      print \"Calling child constructor\"\n",
    "\n",
    "   def childMethod(self):\n",
    "      print 'Calling child method'"
   ]
  },
  {
   "cell_type": "code",
   "execution_count": 29,
   "metadata": {
    "collapsed": false,
    "slideshow": {
     "slide_type": "subslide"
    }
   },
   "outputs": [
    {
     "name": "stdout",
     "output_type": "stream",
     "text": [
      "Calling child constructor\n",
      "Calling child method\n",
      "hello world\n",
      "200\n"
     ]
    }
   ],
   "source": [
    "c = Child()          # instance of child\n",
    "c.childMethod()      # child calls its method\n",
    "c.mine()             # calls parent's method\n",
    "c.add(200)           # again call parent's method\n",
    "print c.next()       # again call parent's method"
   ]
  },
  {
   "cell_type": "markdown",
   "metadata": {
    "slideshow": {
     "slide_type": "slide"
    }
   },
   "source": [
    "## Overloading Methods\n",
    "    * It is possible to overload methods!!!\n",
    "    * For Example!!!"
   ]
  },
  {
   "cell_type": "code",
   "execution_count": 30,
   "metadata": {
    "collapsed": true,
    "slideshow": {
     "slide_type": "subslide"
    }
   },
   "outputs": [],
   "source": [
    "class AnotherChild(MyClass): # define child class\n",
    "    def __init__(self):\n",
    "        MyClass.__init__(self)\n",
    "        print \"Calling child constructor\"\n",
    "\n",
    "    def add(self,x):\n",
    "        self.data.append(x)\n",
    "        self.data.append(x)\n",
    "        self.data.append(x)\n",
    "        \n",
    "    def next():\n",
    "        for k in range(3)\n",
    "            self.j+=1\n",
    "            print self.data[self.j-1]"
   ]
  },
  {
   "cell_type": "code",
   "execution_count": 33,
   "metadata": {
    "collapsed": false,
    "slideshow": {
     "slide_type": "subslide"
    }
   },
   "outputs": [
    {
     "name": "stdout",
     "output_type": "stream",
     "text": [
      "Calling child constructor\n",
      "[100, 100, 100]\n"
     ]
    }
   ],
   "source": [
    "x = AnotherChild()\n",
    "x.add(100)\n",
    "print x.data\n",
    "\n"
   ]
  },
  {
   "cell_type": "markdown",
   "metadata": {
    "slideshow": {
     "slide_type": "slide"
    }
   },
   "source": [
    "## Muliple Inheritance\n",
    "\n",
    "    * Python supports a limited form of multiple inheritance.\n",
    "    * "
   ]
  },
  {
   "cell_type": "code",
   "execution_count": 19,
   "metadata": {
    "collapsed": true,
    "slideshow": {
     "slide_type": "subslide"
    }
   },
   "outputs": [],
   "source": [
    "class point1:\n",
    "    def __init__(self):\n",
    "        self.x = 1.0\n",
    "    def add(self):\n",
    "        self.x-=1.0\n",
    "\n",
    "class point2:\n",
    "    def __init__(self):\n",
    "        self.y = 2.0\n",
    "    def sub(self):\n",
    "        self.y+=1.0"
   ]
  },
  {
   "cell_type": "code",
   "execution_count": 20,
   "metadata": {
    "collapsed": false
   },
   "outputs": [],
   "source": [
    "class point3(point1,point2):\n",
    "    def __init__(self):\n",
    "        point1.__init__(self)\n",
    "        point2.__init__(self)\n",
    "        self.z = 1\n",
    "    def sprint(self):\n",
    "        print self.x\n",
    "        print self.y"
   ]
  },
  {
   "cell_type": "code",
   "execution_count": 21,
   "metadata": {
    "collapsed": true
   },
   "outputs": [],
   "source": [
    "d = point3()"
   ]
  },
  {
   "cell_type": "code",
   "execution_count": 22,
   "metadata": {
    "collapsed": false
   },
   "outputs": [
    {
     "name": "stdout",
     "output_type": "stream",
     "text": [
      "0.0\n",
      "3.0\n"
     ]
    }
   ],
   "source": [
    "d.add()\n",
    "d.sub()\n",
    "d.sprint()"
   ]
  }
 ],
 "metadata": {
  "celltoolbar": "Slideshow",
  "kernelspec": {
   "display_name": "Python 2",
   "language": "python",
   "name": "python2"
  },
  "language_info": {
   "codemirror_mode": {
    "name": "ipython",
    "version": 2
   },
   "file_extension": ".py",
   "mimetype": "text/x-python",
   "name": "python",
   "nbconvert_exporter": "python",
   "pygments_lexer": "ipython2",
   "version": "2.7.12"
  }
 },
 "nbformat": 4,
 "nbformat_minor": 1
}
