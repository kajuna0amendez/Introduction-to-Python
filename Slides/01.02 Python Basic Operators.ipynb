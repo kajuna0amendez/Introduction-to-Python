{
 "cells": [
  {
   "cell_type": "markdown",
   "metadata": {
    "slideshow": {
     "slide_type": "slide"
    }
   },
   "source": [
    "------\n",
    "## Python Basic Operators\n",
    "------\n",
    "### Arithmetic Operators"
   ]
  },
  {
   "cell_type": "code",
   "execution_count": 1,
   "metadata": {
    "collapsed": false,
    "slideshow": {
     "slide_type": "subslide"
    }
   },
   "outputs": [
    {
     "name": "stdout",
     "output_type": "stream",
     "text": [
      "Line 1 - Value of c is  31\n",
      "Line 2 - Value of c is  11\n",
      "Line 3 - Value of c is  210\n",
      "Line 4 - Value of c is  2\n"
     ]
    }
   ],
   "source": [
    "\n",
    "a = 21\n",
    "b = 10\n",
    "c = 0\n",
    "\n",
    "c = a + b\n",
    "print \"Line 1 - Value of c is \", c\n",
    "\n",
    "c = a - b\n",
    "print \"Line 2 - Value of c is \", c \n",
    "\n",
    "c = a * b\n",
    "print \"Line 3 - Value of c is \", c \n",
    "\n",
    "c = a / b\n",
    "print \"Line 4 - Value of c is \", c \n",
    "\n"
   ]
  },
  {
   "cell_type": "code",
   "execution_count": 2,
   "metadata": {
    "collapsed": false,
    "slideshow": {
     "slide_type": "subslide"
    }
   },
   "outputs": [
    {
     "name": "stdout",
     "output_type": "stream",
     "text": [
      "Line 5 - Value of c is  1\n",
      "Line 6 - Value of c is  8\n",
      "Line 7 - Value of c is  2\n"
     ]
    }
   ],
   "source": [
    "c = a % b\n",
    "print \"Line 5 - Value of c is \", c\n",
    "\n",
    "a = 2\n",
    "b = 3\n",
    "c = a**b \n",
    "print \"Line 6 - Value of c is \", c\n",
    "\n",
    "a = 10\n",
    "b = 5\n",
    "c = a//b \n",
    "print \"Line 7 - Value of c is \", c"
   ]
  },
  {
   "cell_type": "markdown",
   "metadata": {
    "slideshow": {
     "slide_type": "slide"
    }
   },
   "source": [
    "------------\n",
    "### Comparison Operators\n",
    "------------\n"
   ]
  },
  {
   "cell_type": "code",
   "execution_count": 3,
   "metadata": {
    "collapsed": false,
    "slideshow": {
     "slide_type": "subslide"
    }
   },
   "outputs": [
    {
     "name": "stdout",
     "output_type": "stream",
     "text": [
      "Line 1 - a is not equal to b\n",
      "Line 2 - a is not equal to b\n",
      "Line 3 - a is not equal to b\n"
     ]
    }
   ],
   "source": [
    "a = 21\n",
    "b = 10\n",
    "c = 0\n",
    "\n",
    "if ( a == b ):\n",
    "   print \"Line 1 - a is equal to b\"\n",
    "else:\n",
    "   print \"Line 1 - a is not equal to b\"\n",
    "\n",
    "if ( a != b ):\n",
    "   print \"Line 2 - a is not equal to b\"\n",
    "else:\n",
    "   print \"Line 2 - a is equal to b\"\n",
    "\n",
    "if ( a <> b ):\n",
    "   print \"Line 3 - a is not equal to b\"\n",
    "else:\n",
    "   print \"Line 3 - a is equal to b\"\n",
    "\n"
   ]
  },
  {
   "cell_type": "code",
   "execution_count": 4,
   "metadata": {
    "collapsed": false,
    "slideshow": {
     "slide_type": "subslide"
    }
   },
   "outputs": [
    {
     "name": "stdout",
     "output_type": "stream",
     "text": [
      "Line 4 - a is not less than b\n",
      "Line 5 - a is greater than b\n"
     ]
    }
   ],
   "source": [
    "if ( a < b ):\n",
    "   print \"Line 4 - a is less than b\" \n",
    "else:\n",
    "   print \"Line 4 - a is not less than b\"\n",
    "\n",
    "if ( a > b ):\n",
    "   print \"Line 5 - a is greater than b\"\n",
    "else:\n",
    "   print \"Line 5 - a is not greater than b\"\n",
    "\n"
   ]
  },
  {
   "cell_type": "code",
   "execution_count": 5,
   "metadata": {
    "collapsed": false
   },
   "outputs": [
    {
     "name": "stdout",
     "output_type": "stream",
     "text": [
      "Line 6 - a is either less than or equal to  b\n",
      "Line 7 - b is either greater than  or equal to b\n"
     ]
    }
   ],
   "source": [
    "a = 5;\n",
    "b = 20;\n",
    "if ( a <= b ):\n",
    "   print \"Line 6 - a is either less than or equal to  b\"\n",
    "else:\n",
    "   print \"Line 6 - a is neither less than nor equal to  b\"\n",
    "\n",
    "if ( b >= a ):\n",
    "   print \"Line 7 - b is either greater than  or equal to b\"\n",
    "else:\n",
    "   print \"Line 7 - b is neither greater than  nor equal to b\""
   ]
  },
  {
   "cell_type": "markdown",
   "metadata": {
    "slideshow": {
     "slide_type": "slide"
    }
   },
   "source": [
    "------------\n",
    "### Assignment Operators\n",
    "------------\n"
   ]
  },
  {
   "cell_type": "code",
   "execution_count": 6,
   "metadata": {
    "collapsed": false,
    "slideshow": {
     "slide_type": "subslide"
    }
   },
   "outputs": [
    {
     "name": "stdout",
     "output_type": "stream",
     "text": [
      "Line 1 - Value of c is  31\n",
      "Line 2 - Value of c is  52\n",
      "Line 3 - Value of c is  1092\n",
      "Line 4 - Value of c is  52\n",
      "Line 5 - Value of c is  2\n",
      "Line 6 - Value of c is  2097152\n",
      "Line 7 - Value of c is  99864\n"
     ]
    }
   ],
   "source": [
    "a = 21\n",
    "b = 10\n",
    "c = 0\n",
    "\n",
    "c = a + b\n",
    "print \"Line 1 - Value of c is \", c\n",
    "\n",
    "c += a\n",
    "print \"Line 2 - Value of c is \", c \n",
    "\n",
    "c *= a\n",
    "print \"Line 3 - Value of c is \", c \n",
    "\n",
    "c /= a \n",
    "print \"Line 4 - Value of c is \", c \n",
    "\n",
    "c  = 2\n",
    "c %= a\n",
    "print \"Line 5 - Value of c is \", c\n",
    "\n",
    "c **= a\n",
    "print \"Line 6 - Value of c is \", c\n",
    "\n",
    "c //= a\n",
    "print \"Line 7 - Value of c is \", c"
   ]
  },
  {
   "cell_type": "markdown",
   "metadata": {
    "slideshow": {
     "slide_type": "slide"
    }
   },
   "source": [
    "------------\n",
    "### Bitwise Operators\n",
    "------------"
   ]
  },
  {
   "cell_type": "code",
   "execution_count": 7,
   "metadata": {
    "collapsed": false,
    "slideshow": {
     "slide_type": "subslide"
    }
   },
   "outputs": [
    {
     "name": "stdout",
     "output_type": "stream",
     "text": [
      "Line 1 - Value of c is  12\n",
      "Line 2 - Value of c is  61\n",
      "Line 3 - Value of c is  49\n",
      "Line 4 - Value of c is  -61\n",
      "Line 5 - Value of c is  240\n",
      "Line 6 - Value of c is  15\n"
     ]
    }
   ],
   "source": [
    "\n",
    "a = 60            # 60 = 0011 1100 \n",
    "b = 13            # 13 = 0000 1101 \n",
    "c = 0\n",
    "\n",
    "c = a & b;        # 12 = 0000 1100\n",
    "print \"Line 1 - Value of c is \", c\n",
    "\n",
    "c = a | b;        # 61 = 0011 1101 \n",
    "print \"Line 2 - Value of c is \", c\n",
    "\n",
    "c = a ^ b;        # 49 = 0011 0001\n",
    "print \"Line 3 - Value of c is \", c\n",
    "\n",
    "c = ~a;           # -61 = 1100 0011\n",
    "print \"Line 4 - Value of c is \", c\n",
    "\n",
    "c = a << 2;       # 240 = 1111 0000\n",
    "print \"Line 5 - Value of c is \", c\n",
    "\n",
    "c = a >> 2;       # 15 = 0000 1111\n",
    "print \"Line 6 - Value of c is \", c"
   ]
  },
  {
   "cell_type": "markdown",
   "metadata": {
    "slideshow": {
     "slide_type": "slide"
    }
   },
   "source": [
    "------------\n",
    "### Membership Operators\n",
    "------------"
   ]
  },
  {
   "cell_type": "code",
   "execution_count": 8,
   "metadata": {
    "collapsed": false,
    "slideshow": {
     "slide_type": "subslide"
    }
   },
   "outputs": [
    {
     "name": "stdout",
     "output_type": "stream",
     "text": [
      "Line 1 - a is not available in the given list\n",
      "Line 2 - b is not available in the given list\n",
      "Line 3 - a is available in the given list\n"
     ]
    }
   ],
   "source": [
    "\n",
    "a = 10\n",
    "b = 20\n",
    "list = [1, 2, 3, 4, 5 ];\n",
    "\n",
    "if ( a in list ):\n",
    "   print \"Line 1 - a is available in the given list\"\n",
    "else:\n",
    "   print \"Line 1 - a is not available in the given list\"\n",
    "\n",
    "if ( b not in list ):\n",
    "   print \"Line 2 - b is not available in the given list\"\n",
    "else:\n",
    "   print \"Line 2 - b is available in the given list\"\n",
    "\n",
    "a = 2\n",
    "if ( a in list ):\n",
    "   print \"Line 3 - a is available in the given list\"\n",
    "else:\n",
    "   print \"Line 3 - a is not available in the given list\""
   ]
  },
  {
   "cell_type": "markdown",
   "metadata": {
    "slideshow": {
     "slide_type": "slide"
    }
   },
   "source": [
    "------------\n",
    "### Identity Operators\n",
    "------------"
   ]
  },
  {
   "cell_type": "code",
   "execution_count": 9,
   "metadata": {
    "collapsed": false,
    "slideshow": {
     "slide_type": "subslide"
    }
   },
   "outputs": [
    {
     "name": "stdout",
     "output_type": "stream",
     "text": [
      "Line 1 - a and b have same identity\n",
      "Line 2 - a and b have same identity\n"
     ]
    }
   ],
   "source": [
    "\n",
    "a = 20\n",
    "b = 20\n",
    "\n",
    "if ( a is b ):\n",
    "   print \"Line 1 - a and b have same identity\"\n",
    "else:\n",
    "   print \"Line 1 - a and b do not have same identity\"\n",
    "\n",
    "if ( id(a) == id(b) ):\n",
    "   print \"Line 2 - a and b have same identity\"\n",
    "else:\n",
    "   print \"Line 2 - a and b do not have same identity\"\n",
    "\n"
   ]
  },
  {
   "cell_type": "code",
   "execution_count": 10,
   "metadata": {
    "collapsed": false,
    "slideshow": {
     "slide_type": "subslide"
    }
   },
   "outputs": [
    {
     "name": "stdout",
     "output_type": "stream",
     "text": [
      "Line 3 - a and b do not have same identity\n",
      "Line 4 - a and b do not have same identity\n"
     ]
    }
   ],
   "source": [
    "b = 30\n",
    "if ( a is b ):\n",
    "   print \"Line 3 - a and b have same identity\"\n",
    "else:\n",
    "   print \"Line 3 - a and b do not have same identity\"\n",
    "\n",
    "if ( a is not b ):\n",
    "   print \"Line 4 - a and b do not have same identity\"\n",
    "else:\n",
    "   print \"Line 4 - a and b have same identity\"\n"
   ]
  }
 ],
 "metadata": {
  "celltoolbar": "Slideshow",
  "kernelspec": {
   "display_name": "Python 2",
   "language": "python",
   "name": "python2"
  },
  "language_info": {
   "codemirror_mode": {
    "name": "ipython",
    "version": 2
   },
   "file_extension": ".py",
   "mimetype": "text/x-python",
   "name": "python",
   "nbconvert_exporter": "python",
   "pygments_lexer": "ipython2",
   "version": "2.7.12"
  }
 },
 "nbformat": 4,
 "nbformat_minor": 1
}
