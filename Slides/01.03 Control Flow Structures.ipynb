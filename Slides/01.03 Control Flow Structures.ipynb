{
 "cells": [
  {
   "cell_type": "markdown",
   "metadata": {
    "slideshow": {
     "slide_type": "slide"
    }
   },
   "source": [
    "----------\n",
    "# Control Flow Structures\n",
    "----------\n",
    "## The IF statement\n",
    "\n",
    "The `if...:` expression runs different branches of code and also evaluates to a different value depending on the Boolean expression given.\n",
    "\n",
    "### Syntax\n",
    "\n",
    "```fsharp\n",
    "if (boolean-expression):\n",
    "    expression1 \n",
    "```\n",
    "\n"
   ]
  },
  {
   "cell_type": "code",
   "execution_count": 1,
   "metadata": {
    "collapsed": false,
    "slideshow": {
     "slide_type": "subslide"
    }
   },
   "outputs": [
    {
     "name": "stdout",
     "output_type": "stream",
     "text": [
      "x = 100\n",
      "The if has ended!!!\n"
     ]
    }
   ],
   "source": [
    "List = range(10)\n",
    "\n",
    "\n",
    "x = 100\n",
    "\n",
    "if ( x  == 100 ): \n",
    "    print \"x = 100\"\n",
    "\n",
    "print \"The if has ended!!!\""
   ]
  },
  {
   "cell_type": "markdown",
   "metadata": {
    "slideshow": {
     "slide_type": "slide"
    }
   },
   "source": [
    "------------\n",
    "### The IF...ELSE... statement\n",
    "\n",
    "The `if...: ..: else` expression runs different branches of code and also evaluates to a different value depending on the Boolean expression given.\n",
    "\n",
    "#### Syntaxis\n",
    "\n",
    "```fsharp\n",
    "if (boolean-expression): \n",
    "    expression1 \n",
    "else:\n",
    "    expression2 \n",
    "```\n",
    "\n",
    "\n",
    "------------"
   ]
  },
  {
   "cell_type": "code",
   "execution_count": 3,
   "metadata": {
    "collapsed": false,
    "slideshow": {
     "slide_type": "subslide"
    }
   },
   "outputs": [
    {
     "name": "stdout",
     "output_type": "stream",
     "text": [
      "first element in the list is 0\n",
      "first element in the list is 1\n",
      "first element in the list is 2\n",
      "The last element to be examined  2\n"
     ]
    }
   ],
   "source": [
    "List = [0,1,2,3,4,5]\n",
    "\n",
    "n = 0\n",
    "\n",
    "if (List[n]==1):\n",
    "    print \"first element in the list is 1\"\n",
    "else:\n",
    "    print \"first element in the list is 0\"\n",
    "    n+=1\n",
    "    if (List[n]==2):\n",
    "        print \"first element in the list is 2\"\n",
    "    else:\n",
    "        print \"first element in the list is 1\"\n",
    "        n+=1\n",
    "        if (List[n]==3):\n",
    "            print \"first element in the list is 3\"\n",
    "        else:\n",
    "            print \"first element in the list is 2\"\n",
    "            n+=1\n",
    "\n",
    "print \"The last element to be examined \", List[n-1]"
   ]
  },
  {
   "cell_type": "markdown",
   "metadata": {
    "slideshow": {
     "slide_type": "slide"
    }
   },
   "source": [
    "------------\n",
    "### The IF...ELIF...ELSE statement\n",
    "\n",
    "#### Syntaxis\n",
    "\n",
    "```fsharp\n",
    "if (boolean-expression): \n",
    "    expression1 \n",
    "elif:\n",
    "    expression2\n",
    "else:\n",
    "    expression3\n",
    "```\n",
    "\n",
    "------------"
   ]
  },
  {
   "cell_type": "code",
   "execution_count": 6,
   "metadata": {
    "collapsed": false,
    "slideshow": {
     "slide_type": "subslide"
    }
   },
   "outputs": [
    {
     "name": "stdout",
     "output_type": "stream",
     "text": [
      "first element in the list is 0\n"
     ]
    }
   ],
   "source": [
    "List = [0,1,2,3,4,5]\n",
    "\n",
    "n = 0\n",
    "\n",
    "if (List[n]==0):\n",
    "    print \"first element in the list is 0\"\n",
    "    n+=1\n",
    "elif (List[n]==-1):\n",
    "    print \"first element in the list is -1\"\n",
    "    n+=1\n",
    "elif (List[n]==2):\n",
    "    print \"first element in the list is 2\"\n",
    "    n+=1\n",
    "else: \n",
    "    print \"List is \", List\n",
    "\n",
    "    "
   ]
  },
  {
   "cell_type": "markdown",
   "metadata": {
    "slideshow": {
     "slide_type": "slide"
    }
   },
   "source": [
    "--------\n",
    "## Loop Instructions\n",
    "--------\n",
    "### While Loops\n",
    "\n",
    "#### Syntaxis\n",
    "\n",
    "```fsharp\n",
    "while (boolean-expression): \n",
    "    expression1\n",
    "    expression2\n",
    "    ...\n",
    "```\n",
    "-------"
   ]
  },
  {
   "cell_type": "code",
   "execution_count": 7,
   "metadata": {
    "collapsed": false,
    "slideshow": {
     "slide_type": "subslide"
    }
   },
   "outputs": [
    {
     "name": "stdout",
     "output_type": "stream",
     "text": [
      "Count:  0\n",
      "Count:  1\n",
      "Count:  2\n",
      "Count:  3\n",
      "Count:  4\n",
      "Count:  5\n",
      "Count:  6\n",
      "Count:  7\n",
      "Count:  8\n",
      "Out of while loop\n"
     ]
    }
   ],
   "source": [
    "# A Classic One\n",
    "count = 0\n",
    "while (count<9):\n",
    "    print \"Count: \",count\n",
    "    count+=1\n",
    "print \"Out of while loop\""
   ]
  },
  {
   "cell_type": "markdown",
   "metadata": {
    "slideshow": {
     "slide_type": "slide"
    }
   },
   "source": [
    "-----------\n",
    "### else statements in while loops\n",
    "\n",
    "    Here basically you do the loop body or the else statement\n",
    "-----------\n"
   ]
  },
  {
   "cell_type": "code",
   "execution_count": 4,
   "metadata": {
    "collapsed": false,
    "slideshow": {
     "slide_type": "subslide"
    }
   },
   "outputs": [
    {
     "name": "stdout",
     "output_type": "stream",
     "text": [
      "Count inside the loop:  32\n",
      "Count inside the loop:  16\n",
      "Count inside the loop:  8\n",
      "Count inside the loop:  4\n",
      "Outside of the loop\n"
     ]
    }
   ],
   "source": [
    "count = 64\n",
    "\n",
    "while count > 2**2:\n",
    "    count = count>>1\n",
    "    print \"Count inside the loop: \",count\n",
    "else:\n",
    "    print \"Outside of the loop\""
   ]
  },
  {
   "cell_type": "code",
   "execution_count": 2,
   "metadata": {
    "collapsed": false,
    "slideshow": {
     "slide_type": "subslide"
    }
   },
   "outputs": [
    {
     "name": "stdout",
     "output_type": "stream",
     "text": [
      "Count inside the loop:  32\n",
      "Count inside the loop:  16\n",
      "Count inside the loop:  8\n",
      "Count inside the loop:  4\n",
      "Count outside the loop:  4\n"
     ]
    }
   ],
   "source": [
    "count = 64\n",
    "\n",
    "while True:\n",
    "    if count == 2**2:\n",
    "        break\n",
    "    count = count>>1\n",
    "    print \"Count inside the loop: \",count\n",
    "\n",
    "print \"Count outside the loop: \", count"
   ]
  },
  {
   "cell_type": "markdown",
   "metadata": {
    "slideshow": {
     "slide_type": "slide"
    }
   },
   "source": [
    "-----------\n",
    "### for loops\n",
    "\n",
    "#### Syntaxis\n",
    "```fsharp\n",
    "for i in a list of elements: \n",
    "    expression1\n",
    "    expression2\n",
    "    ...\n",
    "```\n",
    "\n",
    "-----------\n"
   ]
  },
  {
   "cell_type": "code",
   "execution_count": 6,
   "metadata": {
    "collapsed": false,
    "slideshow": {
     "slide_type": "subslide"
    }
   },
   "outputs": [
    {
     "name": "stdout",
     "output_type": "stream",
     "text": [
      "Current Letter : D\n",
      "Current Letter : a\n",
      "Current Letter : t\n",
      "Current Letter : a\n",
      "Current Letter : L\n",
      "Current Letter : a\n",
      "Current Letter : b\n",
      "Current fruit : banana\n",
      "Current fruit : apple\n",
      "Current fruit : mango\n",
      "Current index:  0\n",
      "Current index:  1\n",
      "Current index:  2\n",
      "Current index:  3\n",
      "Current index:  4\n",
      "Current index:  5\n",
      "We Finish it\n"
     ]
    }
   ],
   "source": [
    "for letter in 'DataLab':     # First Example\n",
    "   print 'Current Letter :', letter\n",
    "\n",
    "fruits = ['banana', 'apple',  'mango']\n",
    "for fruit in fruits:        # Second Example\n",
    "   print 'Current fruit :', fruit\n",
    "\n",
    "\n",
    "print \"We Finish it\""
   ]
  },
  {
   "cell_type": "code",
   "execution_count": 9,
   "metadata": {
    "collapsed": false,
    "slideshow": {
     "slide_type": "subslide"
    }
   },
   "outputs": [
    {
     "name": "stdout",
     "output_type": "stream",
     "text": [
      "Current index:  0\n",
      "Current index:  1\n",
      "Current index:  2\n",
      "Current index:  3\n",
      "Current index:  4\n",
      "Current index:  5\n"
     ]
    }
   ],
   "source": [
    "\n",
    "for x in range(10): # The Range creates a list \n",
    "    if x>5:\n",
    "        break\n",
    "    print \"Current index: \", x\n",
    "\n"
   ]
  },
  {
   "cell_type": "code",
   "execution_count": 10,
   "metadata": {
    "collapsed": false,
    "slideshow": {
     "slide_type": "subslide"
    }
   },
   "outputs": [
    {
     "name": "stdout",
     "output_type": "stream",
     "text": [
      "Current odd index:  1\n",
      "Current odd index:  3\n",
      "Current odd index:  5\n",
      "Current odd index:  7\n",
      "Current odd index:  9\n"
     ]
    }
   ],
   "source": [
    "for x in range(10):\n",
    "    if x%2 == 0:\n",
    "        pass\n",
    "        pass\n",
    "        pass\n",
    "        continue\n",
    "    print \"Current odd index: \", x"
   ]
  }
 ],
 "metadata": {
  "celltoolbar": "Slideshow",
  "kernelspec": {
   "display_name": "Python 2",
   "language": "python",
   "name": "python2"
  },
  "language_info": {
   "codemirror_mode": {
    "name": "ipython",
    "version": 2
   },
   "file_extension": ".py",
   "mimetype": "text/x-python",
   "name": "python",
   "nbconvert_exporter": "python",
   "pygments_lexer": "ipython2",
   "version": "2.7.12"
  }
 },
 "nbformat": 4,
 "nbformat_minor": 1
}
